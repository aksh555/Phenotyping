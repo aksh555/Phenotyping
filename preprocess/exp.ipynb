{
 "cells": [
  {
   "cell_type": "code",
   "execution_count": 1,
   "metadata": {},
   "outputs": [],
   "source": [
    "import pandas as pd\n",
    "import datetime as dt\n",
    "from datetime import date,time,datetime\n",
    "from sklearn.preprocessing import LabelEncoder\n",
    "from sklearn.preprocessing import MultiLabelBinarizer\n",
    "import numpy as np\n",
    "import pickle as pk\n",
    "import os\n",
    "import re\n",
    "import nltk\n",
    "from nltk.stem.snowball import SnowballStemmer\n",
    "from sklearn.feature_extraction.text import TfidfVectorizer\n",
    "from sklearn.metrics.pairwise import cosine_similarity\n",
    "import string"
   ]
  },
  {
   "cell_type": "code",
   "execution_count": 2,
   "metadata": {},
   "outputs": [],
   "source": [
    "data_dir = \"./mimic-iii\"\n",
    "files_dir = \"./dump_files\""
   ]
  },
  {
   "cell_type": "code",
   "execution_count": 4,
   "metadata": {},
   "outputs": [],
   "source": [
    "dd = pd.read_csv(os.path.join(files_dir, 'notes_disch.csv'))"
   ]
  },
  {
   "cell_type": "code",
   "execution_count": 5,
   "metadata": {},
   "outputs": [],
   "source": [
    "rad = pd.read_csv(os.path.join(files_dir, 'notes_rad.csv'))"
   ]
  },
  {
   "cell_type": "code",
   "execution_count": 6,
   "metadata": {},
   "outputs": [
    {
     "data": {
      "text/plain": [
       "Index(['HADM_ID', 'TEXT'], dtype='object')"
      ]
     },
     "execution_count": 6,
     "metadata": {},
     "output_type": "execute_result"
    }
   ],
   "source": [
    "dd.columns"
   ]
  },
  {
   "cell_type": "code",
   "execution_count": 24,
   "metadata": {},
   "outputs": [],
   "source": [
    "d = dd.drop(['HADM_ID', 'TEXT'], axis=1)"
   ]
  },
  {
   "cell_type": "code",
   "execution_count": 8,
   "metadata": {},
   "outputs": [],
   "source": [
    "dt = dd.head(1)['TEXT'].tolist()"
   ]
  },
  {
   "cell_type": "code",
   "execution_count": 9,
   "metadata": {},
   "outputs": [
    {
     "data": {
      "text/plain": [
       "['admission date discharge date date birth sex f service medicine allergies levaquin attending chief complaint nausea vomiting major surgical invasive procedure none history present illness f w poorly controlled type diabetes mellitus w neuropathy nephropathy htn gastroparesis ckd retinopathy recently hospitalized orthostatic hypotension autonomic neuropathy dka hospitalizations returning w history worsening nausea vomiting coffee ground emesis chills dyspnea exertion last week fall hit right face also day diarrhea resolved early last week found dka ag bicarb ed inital vitals ra k hco3 anion gap cr baseline rd l ns insulin srip units hr home levemir difficult control sugars bps high given mtroprolol tartrate ed started insulin drip units hr l ns boluses also aspirin mg po morphine mg ivx1 pain cxr clear ekg nad review systems otherwise negative past medical history type diabetes mellitis w neuropathy nephropathy retinopathy episodes dka htn years gastroparesis years ckd stage iii baseline cr proteinuria l1 vertebral fracture systolic ejection murmur social history patient lives home daughter boyfriend history etoh tobacco illicit drug use currently unemployed seeking disability family history parents htn t2dm grandfather mi physical exam gen awake alert oriented heent perrla mmm jvd neck supple cervical lad cards rrr s1 s2 normal ii vi systolic ejection murmur heard best l upper sternal border pulm ctabl crackles wheezes abd bs soft nt rebound guarding hsm sign extremities wwp edema radials dps pts skin rashes bruising skin tenting neuro cns ii xii intact upper extremities power bilaterally le left power right power bilateral symmetric reduced sensation distal le ankles pertinent results admission labs wbc rbc hgb hct mcv plt count lipase alt sgpt ast sgot alk phos tot bili glucose urea n creat sodium potassium cl co2 lactate discharge labs wbc rbc hgb hct mcv plt ct glucose urean creat na k cl hco3 angap calcium phos mg radiology cxr evidence pneumonia pathological abnormalities pleural effusions pulmonary edema normal size cardiac silhouette microbiology urine culture negative blood cultures growth date stool c difficile negative brief hospital course yo f htn poorly controlled type dm c b neuropathy gastroparesis nephropathy ckd retinopathy presents dka hypertension sbp diabetic ketoacidosis patient controls diabetes home humalog ss long acting levemir sugars home recently ed glucose ua ketones corrected rose treated insulin drip transitioned subq tolerated pos electrolytes repleted received aggressive volume resuscitation saw gave sliding scale recommendations implemented source dka found beleived gastroparesis nausea managed ativan compazine promethazine discharged home insulin sliding scale instructions follow htn hypertensive sbp initially attributed dka experienced past improved blood pressures normalized started home lopressor midodrine regimen coffee grounds emesis emesis started clear prolonged wretching started coffee grounds vomiting also occurred prior admissions dka associated vomiting hematocrit remained stable hematemesis self resolved work deferred outpatient setting acute chronic kidney disease stage iii patient cr admission trending following fluids consistent known ckd secondary diabetic nephropathy medications admission citalopram mg tablet sig one tablet po daily daily levemir unit ml solution sig twenty two units subcutaneous every levemir unit ml solution sig twelve units subcutaneous bedtime humalog unit ml solution sig sliding scale directed subcutaneous four times day please use sliding scale directed md metoprolol tartrate mg tablet sig tablets po daily daily take evening promethazine mg tablet sig tablet po q8h every hours needed nausea gabapentin mg capsule sig one capsule po q12h every hours disp capsule refills duloxetine mg capsule delayed release e c sig two capsule delayed release e c po daily daily please take capsule daily mg first weeks treatment disp capsule delayed release e c refills oxycodone mg capsule sig one capsule po every eight hours needed pain midodrine mg tablet sig tablets po every four hours hold sleeping disp tablet refills discharge medications citalopram mg tablet sig one tablet po daily daily gabapentin mg capsule sig one capsule po q12h every hours duloxetine mg capsule delayed release e c sig one capsule delayed release e c po daily daily metoprolol tartrate mg tablet sig three tablet po daily pm midodrine mg tablet sig three tablet po daily daily levemir unit ml solution sig directed units subcutaneous directed discharge disposition home discharge diagnosis diabetic keotacidosis hematemesis blood vomit hypertension chronic renal insufficiency discharge condition mental status clear coherent level consciousness alert interactive activity status ambulatory independent discharge instructions admitted hospital dka hypertension blood vomit initially treated icu insulin drip blood sugars improved blood pressure medications adjusted better control blood pressure dka started home regimen discharge blood vomit likely secondary mechanical trauma repeated wretching follow primary care doctor discuss whether undergo evaluation upper endoscopy given complaints chronic cough heartburn also discuss beginning trial proton pump inhibitor nexium prilosec see helps symptoms insulin regimen adjusted team continue follow questions concerns regarding insulin management followup instructions please call dr office schedule follow appointment within days discharge office number also continue follow doctors needed']"
      ]
     },
     "execution_count": 9,
     "metadata": {},
     "output_type": "execute_result"
    }
   ],
   "source": [
    "dt"
   ]
  },
  {
   "cell_type": "code",
   "execution_count": 10,
   "metadata": {},
   "outputs": [],
   "source": [
    "dr = rad.head(1)['TEXT'].tolist()"
   ]
  },
  {
   "cell_type": "code",
   "execution_count": 11,
   "metadata": {},
   "outputs": [
    {
     "data": {
      "text/plain": [
       "'chest pa lat clip reason eval infiltrate medical condition year old woman vomiting reason examination eval infiltrate final report chest radiograph indication vomiting evaluation infiltrates comparison findings compared previous radiograph relevant change evidence pneumonia pathological abnormalities pleural effusions pulmonary edema normal size cardiac silhouette'"
      ]
     },
     "execution_count": 11,
     "metadata": {},
     "output_type": "execute_result"
    }
   ],
   "source": [
    "dr[0]"
   ]
  },
  {
   "cell_type": "code",
   "execution_count": 48,
   "metadata": {},
   "outputs": [],
   "source": [
    "d = d.drop(l, axis=1)"
   ]
  },
  {
   "cell_type": "code",
   "execution_count": 15,
   "metadata": {},
   "outputs": [],
   "source": [
    "x = dd.loc[0, :].values.tolist()"
   ]
  },
  {
   "cell_type": "code",
   "execution_count": 49,
   "metadata": {},
   "outputs": [
    {
     "data": {
      "text/html": [
       "<div>\n",
       "<style scoped>\n",
       "    .dataframe tbody tr th:only-of-type {\n",
       "        vertical-align: middle;\n",
       "    }\n",
       "\n",
       "    .dataframe tbody tr th {\n",
       "        vertical-align: top;\n",
       "    }\n",
       "\n",
       "    .dataframe thead th {\n",
       "        text-align: right;\n",
       "    }\n",
       "</style>\n",
       "<table border=\"1\" class=\"dataframe\">\n",
       "  <thead>\n",
       "    <tr style=\"text-align: right;\">\n",
       "      <th></th>\n",
       "      <th>0030</th>\n",
       "      <th>0031</th>\n",
       "      <th>0038</th>\n",
       "      <th>0039</th>\n",
       "      <th>0041</th>\n",
       "      <th>0048</th>\n",
       "      <th>0049</th>\n",
       "      <th>0051</th>\n",
       "      <th>00581</th>\n",
       "      <th>0059</th>\n",
       "      <th>...</th>\n",
       "      <th>V8745</th>\n",
       "      <th>V8801</th>\n",
       "      <th>V8811</th>\n",
       "      <th>V8812</th>\n",
       "      <th>V8821</th>\n",
       "      <th>V9010</th>\n",
       "      <th>V9039</th>\n",
       "      <th>V9081</th>\n",
       "      <th>V9089</th>\n",
       "      <th>V9103</th>\n",
       "    </tr>\n",
       "  </thead>\n",
       "  <tbody>\n",
       "    <tr>\n",
       "      <th>0</th>\n",
       "      <td>0</td>\n",
       "      <td>0</td>\n",
       "      <td>0</td>\n",
       "      <td>0</td>\n",
       "      <td>0</td>\n",
       "      <td>0</td>\n",
       "      <td>0</td>\n",
       "      <td>0</td>\n",
       "      <td>0</td>\n",
       "      <td>0</td>\n",
       "      <td>...</td>\n",
       "      <td>0</td>\n",
       "      <td>0</td>\n",
       "      <td>0</td>\n",
       "      <td>0</td>\n",
       "      <td>0</td>\n",
       "      <td>0</td>\n",
       "      <td>0</td>\n",
       "      <td>0</td>\n",
       "      <td>0</td>\n",
       "      <td>0</td>\n",
       "    </tr>\n",
       "    <tr>\n",
       "      <th>1</th>\n",
       "      <td>0</td>\n",
       "      <td>0</td>\n",
       "      <td>0</td>\n",
       "      <td>0</td>\n",
       "      <td>0</td>\n",
       "      <td>0</td>\n",
       "      <td>0</td>\n",
       "      <td>0</td>\n",
       "      <td>0</td>\n",
       "      <td>0</td>\n",
       "      <td>...</td>\n",
       "      <td>0</td>\n",
       "      <td>0</td>\n",
       "      <td>0</td>\n",
       "      <td>0</td>\n",
       "      <td>0</td>\n",
       "      <td>0</td>\n",
       "      <td>0</td>\n",
       "      <td>0</td>\n",
       "      <td>0</td>\n",
       "      <td>0</td>\n",
       "    </tr>\n",
       "    <tr>\n",
       "      <th>2</th>\n",
       "      <td>0</td>\n",
       "      <td>0</td>\n",
       "      <td>0</td>\n",
       "      <td>0</td>\n",
       "      <td>0</td>\n",
       "      <td>0</td>\n",
       "      <td>0</td>\n",
       "      <td>0</td>\n",
       "      <td>0</td>\n",
       "      <td>0</td>\n",
       "      <td>...</td>\n",
       "      <td>0</td>\n",
       "      <td>0</td>\n",
       "      <td>0</td>\n",
       "      <td>0</td>\n",
       "      <td>0</td>\n",
       "      <td>0</td>\n",
       "      <td>0</td>\n",
       "      <td>0</td>\n",
       "      <td>0</td>\n",
       "      <td>0</td>\n",
       "    </tr>\n",
       "    <tr>\n",
       "      <th>3</th>\n",
       "      <td>0</td>\n",
       "      <td>0</td>\n",
       "      <td>0</td>\n",
       "      <td>0</td>\n",
       "      <td>0</td>\n",
       "      <td>0</td>\n",
       "      <td>0</td>\n",
       "      <td>0</td>\n",
       "      <td>0</td>\n",
       "      <td>0</td>\n",
       "      <td>...</td>\n",
       "      <td>0</td>\n",
       "      <td>0</td>\n",
       "      <td>0</td>\n",
       "      <td>0</td>\n",
       "      <td>0</td>\n",
       "      <td>0</td>\n",
       "      <td>0</td>\n",
       "      <td>0</td>\n",
       "      <td>0</td>\n",
       "      <td>0</td>\n",
       "    </tr>\n",
       "    <tr>\n",
       "      <th>4</th>\n",
       "      <td>0</td>\n",
       "      <td>0</td>\n",
       "      <td>0</td>\n",
       "      <td>0</td>\n",
       "      <td>0</td>\n",
       "      <td>0</td>\n",
       "      <td>0</td>\n",
       "      <td>0</td>\n",
       "      <td>0</td>\n",
       "      <td>0</td>\n",
       "      <td>...</td>\n",
       "      <td>0</td>\n",
       "      <td>0</td>\n",
       "      <td>0</td>\n",
       "      <td>0</td>\n",
       "      <td>0</td>\n",
       "      <td>0</td>\n",
       "      <td>0</td>\n",
       "      <td>0</td>\n",
       "      <td>0</td>\n",
       "      <td>0</td>\n",
       "    </tr>\n",
       "    <tr>\n",
       "      <th>...</th>\n",
       "      <td>...</td>\n",
       "      <td>...</td>\n",
       "      <td>...</td>\n",
       "      <td>...</td>\n",
       "      <td>...</td>\n",
       "      <td>...</td>\n",
       "      <td>...</td>\n",
       "      <td>...</td>\n",
       "      <td>...</td>\n",
       "      <td>...</td>\n",
       "      <td>...</td>\n",
       "      <td>...</td>\n",
       "      <td>...</td>\n",
       "      <td>...</td>\n",
       "      <td>...</td>\n",
       "      <td>...</td>\n",
       "      <td>...</td>\n",
       "      <td>...</td>\n",
       "      <td>...</td>\n",
       "      <td>...</td>\n",
       "      <td>...</td>\n",
       "    </tr>\n",
       "    <tr>\n",
       "      <th>52721</th>\n",
       "      <td>0</td>\n",
       "      <td>0</td>\n",
       "      <td>0</td>\n",
       "      <td>0</td>\n",
       "      <td>0</td>\n",
       "      <td>0</td>\n",
       "      <td>0</td>\n",
       "      <td>0</td>\n",
       "      <td>0</td>\n",
       "      <td>0</td>\n",
       "      <td>...</td>\n",
       "      <td>0</td>\n",
       "      <td>0</td>\n",
       "      <td>0</td>\n",
       "      <td>0</td>\n",
       "      <td>0</td>\n",
       "      <td>0</td>\n",
       "      <td>0</td>\n",
       "      <td>0</td>\n",
       "      <td>0</td>\n",
       "      <td>0</td>\n",
       "    </tr>\n",
       "    <tr>\n",
       "      <th>52722</th>\n",
       "      <td>0</td>\n",
       "      <td>0</td>\n",
       "      <td>0</td>\n",
       "      <td>0</td>\n",
       "      <td>0</td>\n",
       "      <td>0</td>\n",
       "      <td>0</td>\n",
       "      <td>0</td>\n",
       "      <td>0</td>\n",
       "      <td>0</td>\n",
       "      <td>...</td>\n",
       "      <td>0</td>\n",
       "      <td>0</td>\n",
       "      <td>0</td>\n",
       "      <td>0</td>\n",
       "      <td>0</td>\n",
       "      <td>0</td>\n",
       "      <td>0</td>\n",
       "      <td>0</td>\n",
       "      <td>0</td>\n",
       "      <td>0</td>\n",
       "    </tr>\n",
       "    <tr>\n",
       "      <th>52723</th>\n",
       "      <td>0</td>\n",
       "      <td>0</td>\n",
       "      <td>0</td>\n",
       "      <td>0</td>\n",
       "      <td>0</td>\n",
       "      <td>0</td>\n",
       "      <td>0</td>\n",
       "      <td>0</td>\n",
       "      <td>0</td>\n",
       "      <td>0</td>\n",
       "      <td>...</td>\n",
       "      <td>0</td>\n",
       "      <td>0</td>\n",
       "      <td>0</td>\n",
       "      <td>0</td>\n",
       "      <td>0</td>\n",
       "      <td>0</td>\n",
       "      <td>0</td>\n",
       "      <td>0</td>\n",
       "      <td>0</td>\n",
       "      <td>0</td>\n",
       "    </tr>\n",
       "    <tr>\n",
       "      <th>52724</th>\n",
       "      <td>0</td>\n",
       "      <td>0</td>\n",
       "      <td>0</td>\n",
       "      <td>0</td>\n",
       "      <td>0</td>\n",
       "      <td>0</td>\n",
       "      <td>0</td>\n",
       "      <td>0</td>\n",
       "      <td>0</td>\n",
       "      <td>0</td>\n",
       "      <td>...</td>\n",
       "      <td>0</td>\n",
       "      <td>0</td>\n",
       "      <td>0</td>\n",
       "      <td>0</td>\n",
       "      <td>0</td>\n",
       "      <td>0</td>\n",
       "      <td>0</td>\n",
       "      <td>0</td>\n",
       "      <td>0</td>\n",
       "      <td>0</td>\n",
       "    </tr>\n",
       "    <tr>\n",
       "      <th>52725</th>\n",
       "      <td>0</td>\n",
       "      <td>0</td>\n",
       "      <td>0</td>\n",
       "      <td>0</td>\n",
       "      <td>0</td>\n",
       "      <td>0</td>\n",
       "      <td>0</td>\n",
       "      <td>0</td>\n",
       "      <td>0</td>\n",
       "      <td>0</td>\n",
       "      <td>...</td>\n",
       "      <td>0</td>\n",
       "      <td>0</td>\n",
       "      <td>0</td>\n",
       "      <td>0</td>\n",
       "      <td>0</td>\n",
       "      <td>0</td>\n",
       "      <td>0</td>\n",
       "      <td>0</td>\n",
       "      <td>0</td>\n",
       "      <td>0</td>\n",
       "    </tr>\n",
       "  </tbody>\n",
       "</table>\n",
       "<p>52726 rows × 6918 columns</p>\n",
       "</div>"
      ],
      "text/plain": [
       "       0030  0031  0038  0039  0041  0048  0049  0051  00581  0059  ...  \\\n",
       "0         0     0     0     0     0     0     0     0      0     0  ...   \n",
       "1         0     0     0     0     0     0     0     0      0     0  ...   \n",
       "2         0     0     0     0     0     0     0     0      0     0  ...   \n",
       "3         0     0     0     0     0     0     0     0      0     0  ...   \n",
       "4         0     0     0     0     0     0     0     0      0     0  ...   \n",
       "...     ...   ...   ...   ...   ...   ...   ...   ...    ...   ...  ...   \n",
       "52721     0     0     0     0     0     0     0     0      0     0  ...   \n",
       "52722     0     0     0     0     0     0     0     0      0     0  ...   \n",
       "52723     0     0     0     0     0     0     0     0      0     0  ...   \n",
       "52724     0     0     0     0     0     0     0     0      0     0  ...   \n",
       "52725     0     0     0     0     0     0     0     0      0     0  ...   \n",
       "\n",
       "       V8745  V8801  V8811  V8812  V8821  V9010  V9039  V9081  V9089  V9103  \n",
       "0          0      0      0      0      0      0      0      0      0      0  \n",
       "1          0      0      0      0      0      0      0      0      0      0  \n",
       "2          0      0      0      0      0      0      0      0      0      0  \n",
       "3          0      0      0      0      0      0      0      0      0      0  \n",
       "4          0      0      0      0      0      0      0      0      0      0  \n",
       "...      ...    ...    ...    ...    ...    ...    ...    ...    ...    ...  \n",
       "52721      0      0      0      0      0      0      0      0      0      0  \n",
       "52722      0      0      0      0      0      0      0      0      0      0  \n",
       "52723      0      0      0      0      0      0      0      0      0      0  \n",
       "52724      0      0      0      0      0      0      0      0      0      0  \n",
       "52725      0      0      0      0      0      0      0      0      0      0  \n",
       "\n",
       "[52726 rows x 6918 columns]"
      ]
     },
     "execution_count": 49,
     "metadata": {},
     "output_type": "execute_result"
    }
   ],
   "source": [
    "d"
   ]
  },
  {
   "cell_type": "code",
   "execution_count": 53,
   "metadata": {},
   "outputs": [],
   "source": [
    "x = d.sum().tolist()"
   ]
  },
  {
   "cell_type": "code",
   "execution_count": 55,
   "metadata": {},
   "outputs": [
    {
     "data": {
      "text/plain": [
       "618942"
      ]
     },
     "execution_count": 55,
     "metadata": {},
     "output_type": "execute_result"
    }
   ],
   "source": [
    "sum(x)"
   ]
  },
  {
   "cell_type": "code",
   "execution_count": 56,
   "metadata": {},
   "outputs": [
    {
     "data": {
      "text/plain": [
       "0.0016968543688477165"
      ]
     },
     "execution_count": 56,
     "metadata": {},
     "output_type": "execute_result"
    }
   ],
   "source": [
    "618942/(52726*6918)"
   ]
  },
  {
   "cell_type": "code",
   "execution_count": null,
   "metadata": {},
   "outputs": [],
   "source": []
  }
 ],
 "metadata": {
  "kernelspec": {
   "display_name": "Python 3",
   "language": "python",
   "name": "python3"
  },
  "language_info": {
   "codemirror_mode": {
    "name": "ipython",
    "version": 3
   },
   "file_extension": ".py",
   "mimetype": "text/x-python",
   "name": "python",
   "nbconvert_exporter": "python",
   "pygments_lexer": "ipython3",
   "version": "3.8.5"
  }
 },
 "nbformat": 4,
 "nbformat_minor": 4
}
